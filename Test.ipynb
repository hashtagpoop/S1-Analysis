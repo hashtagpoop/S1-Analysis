{
 "cells": [
  {
   "cell_type": "code",
   "execution_count": 62,
   "metadata": {},
   "outputs": [],
   "source": [
    "import pandas as pd\n",
    "import requests, json, time\n",
    "from bs4 import BeautifulSoup"
   ]
  },
  {
   "cell_type": "code",
   "execution_count": null,
   "metadata": {},
   "outputs": [],
   "source": [
    "def get_s1_filings():\n",
    "    base_url = \"https://efts.sec.gov/LATEST/search-index\"\n",
    "\n",
    "    start_date = \"2024-01-02\"\n",
    "    end_date = \"2024-12-31\"\n",
    "\n",
    "    requests_per_second = 10\n",
    "    delay = 1.0 / requests_per_second\n",
    "    \n",
    "    start_from = 0\n",
    "    size = 100\n",
    "    all_filings = []\n",
    "\n",
    "    headers = {\n",
    "        \"User-Agent\": \"MyApp/1.0 (ruoyu@lockrmail.com)\",\n",
    "        \"Accept\": \"application/json\",\n",
    "        \"Content-Type\": \"application/json\"\n",
    "    }\n",
    "    \n",
    "    initial_url = f\"{base_url}?dateRange=custom&category=custom&startdt={start_date}&enddt={end_date}&forms=S-1&page=1&from=0\"\n",
    "    response = requests.get(initial_url, headers=headers)\n",
    "    \n",
    "    if response.status_code == 200:\n",
    "        data = response.json()\n",
    "        total_hits = data.get(\"hits\", {}).get(\"total\", {}).get(\"value\", 0)\n",
    "        print(f\"Total S-1 filings found: {total_hits}\")\n",
    "        \n",
    "        while start_from < total_hits:\n",
    "            url = f\"{base_url}?dateRange=custom&category=custom&startdt={start_date}&enddt={end_date}&forms=S-1&page={start_from // size + 1}&from={start_from}\"\n",
    "            response = requests.get(url, headers=headers)\n",
    "            time.sleep(delay)\n",
    "            \n",
    "            if response.status_code == 200:\n",
    "                data = response.json()\n",
    "                filings = data.get(\"hits\", {}).get(\"hits\", [])\n",
    "                \n",
    "                for filing in filings:\n",
    "                    source_data = filing.get(\"_source\")\n",
    "                    all_filings.append({\n",
    "                        \"display_names\": source_data.get(\"display_names\"),\n",
    "                        \"file_date\": source_data.get(\"file_date\"),\n",
    "                        \"file_type\": source_data.get(\"file_type\"),\n",
    "                        \"biz_locations\": source_data.get(\"biz_locations\"),\n",
    "                        \"sequence\": source_data.get(\"sequence\"),\n",
    "                        \"inc_states\": source_data.get(\"inc_states\"),\n",
    "                    })\n",
    "                \n",
    "                start_from += size \n",
    "            else:\n",
    "                print(f\"Error: Received status code {response.status_code}\")\n",
    "                print(response.text)\n",
    "                break\n",
    "    else:\n",
    "        print(f\"Error: Received status code {response.status_code}\")\n",
    "        print(response.text)\n",
    "    \n",
    "    return all_filings"
   ]
  },
  {
   "cell_type": "code",
   "execution_count": 64,
   "metadata": {},
   "outputs": [
    {
     "name": "stdout",
     "output_type": "stream",
     "text": [
      "Total S-1 filings found: 2663\n"
     ]
    }
   ],
   "source": [
    "list_of_filings = get_s1_filings()"
   ]
  },
  {
   "cell_type": "code",
   "execution_count": null,
   "metadata": {},
   "outputs": [
    {
     "data": {
      "text/plain": [
       "2663"
      ]
     },
     "execution_count": 66,
     "metadata": {},
     "output_type": "execute_result"
    }
   ],
   "source": []
  },
  {
   "cell_type": "code",
   "execution_count": 3,
   "metadata": {},
   "outputs": [],
   "source": [
    "url = \"https://efts.sec.gov/LATEST/search-index\"\n",
    "headers = {\n",
    "    \"User-Agent\": \"MyApp/1.0 (ruoyu@lockrmail.com)\",\n",
    "    \"Accept\": \"application/json\"\n",
    "}\n",
    "params = {\n",
    "        \"q\": \"FORM-TYPE:S-1 AND filed:[2024-01-01 TO 2024-12-31]\",  # Search for S-1 filings in 2024\n",
    "        \"from\": 0,\n",
    "        \"size\": 100  # Max results (increase if needed)\n",
    "    }"
   ]
  },
  {
   "cell_type": "code",
   "execution_count": 55,
   "metadata": {},
   "outputs": [],
   "source": [
    "url = \"https://efts.sec.gov/LATEST/search-index?dateRange=custom&category=custom&startdt=2024-01-02&enddt=2024-12-31&forms=S-1&page=1&from=0\""
   ]
  },
  {
   "cell_type": "code",
   "execution_count": 56,
   "metadata": {},
   "outputs": [],
   "source": [
    "response = requests.get(url, headers=headers)"
   ]
  },
  {
   "cell_type": "code",
   "execution_count": 73,
   "metadata": {},
   "outputs": [
    {
     "data": {
      "text/plain": [
       "{'_index': 'edgar_file',\n",
       " '_id': '0001640334-24-001974:aen_s1.htm',\n",
       " '_score': None,\n",
       " '_source': {'ciks': ['0002033750'],\n",
       "  'period_ending': None,\n",
       "  'file_num': ['333-284102'],\n",
       "  'display_names': ['AEN Group Ltd.  (CIK 0002033750)'],\n",
       "  'xsl': None,\n",
       "  'sequence': 1,\n",
       "  'root_forms': ['S-1'],\n",
       "  'file_date': '2024-12-31',\n",
       "  'biz_states': ['A0'],\n",
       "  'sics': [],\n",
       "  'form': 'S-1',\n",
       "  'adsh': '0001640334-24-001974',\n",
       "  'film_num': ['241593326'],\n",
       "  'biz_locations': ['Calgary, A0'],\n",
       "  'file_type': 'S-1',\n",
       "  'file_description': 'FORM S-1',\n",
       "  'inc_states': [],\n",
       "  'items': []},\n",
       " 'sort': [1735603200000]}"
      ]
     },
     "execution_count": 73,
     "metadata": {},
     "output_type": "execute_result"
    }
   ],
   "source": [
    "response.json().get(\"hits\").get(\"hits\")[0]"
   ]
  },
  {
   "cell_type": "code",
   "execution_count": 77,
   "metadata": {},
   "outputs": [
    {
     "data": {
      "text/plain": [
       "{'ciks': ['0002033750'],\n",
       " 'period_ending': None,\n",
       " 'file_num': ['333-284102'],\n",
       " 'display_names': ['AEN Group Ltd.  (CIK 0002033750)'],\n",
       " 'xsl': None,\n",
       " 'sequence': 1,\n",
       " 'root_forms': ['S-1'],\n",
       " 'file_date': '2024-12-31',\n",
       " 'biz_states': ['A0'],\n",
       " 'sics': [],\n",
       " 'form': 'S-1',\n",
       " 'adsh': '0001640334-24-001974',\n",
       " 'film_num': ['241593326'],\n",
       " 'biz_locations': ['Calgary, A0'],\n",
       " 'file_type': 'S-1',\n",
       " 'file_description': 'FORM S-1',\n",
       " 'inc_states': [],\n",
       " 'items': []}"
      ]
     },
     "execution_count": 77,
     "metadata": {},
     "output_type": "execute_result"
    }
   ],
   "source": [
    "response.json().get(\"hits\").get(\"hits\")[0].get(\"_source\")"
   ]
  },
  {
   "cell_type": "code",
   "execution_count": null,
   "metadata": {},
   "outputs": [],
   "source": []
  }
 ],
 "metadata": {
  "kernelspec": {
   "display_name": ".venv",
   "language": "python",
   "name": "python3"
  },
  "language_info": {
   "codemirror_mode": {
    "name": "ipython",
    "version": 3
   },
   "file_extension": ".py",
   "mimetype": "text/x-python",
   "name": "python",
   "nbconvert_exporter": "python",
   "pygments_lexer": "ipython3",
   "version": "3.12.4"
  }
 },
 "nbformat": 4,
 "nbformat_minor": 2
}
