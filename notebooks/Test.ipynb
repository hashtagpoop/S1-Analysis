{
 "cells": [
  {
   "cell_type": "code",
   "execution_count": 1,
   "metadata": {},
   "outputs": [],
   "source": [
    "import pandas as pd\n",
    "import requests, json, time, os\n",
    "from bs4 import BeautifulSoup"
   ]
  },
  {
   "cell_type": "markdown",
   "metadata": {},
   "source": [
    "# Purpose: To understand how S-1 Filings can reveal information about a Company's lockup period, and give insight to how companies have performed after an IPO"
   ]
  },
  {
   "cell_type": "markdown",
   "metadata": {},
   "source": [
    "We will be using Edgar's API \n",
    "\n",
    "Edgar's full text search UI, linked below, gives a listing of all 2024 S-1 filings. Below, we will programmatically pull these filings from Edgar. We will retrieve each S-1's filing date and filing URL (taking us to the actual S-1 filing). \n",
    "\n",
    "\n",
    "(https://www.sec.gov/edgar/search/#/dateRange=custom&category=custom&startdt=2024-01-01&enddt=2024-12-31&forms=S-1)"
   ]
  },
  {
   "cell_type": "markdown",
   "metadata": {},
   "source": [
    "## Define Helpers"
   ]
  },
  {
   "cell_type": "code",
   "execution_count": 2,
   "metadata": {},
   "outputs": [],
   "source": [
    "def get_s1_filings():\n",
    "    base_url = \"https://efts.sec.gov/LATEST/search-index\"\n",
    "\n",
    "    start_date = \"2024-01-02\"\n",
    "    end_date = \"2024-12-31\"\n",
    "\n",
    "    requests_per_second = 10\n",
    "    delay = 1.0 / requests_per_second\n",
    "    \n",
    "    start_from = 0\n",
    "    size = 100\n",
    "    all_filings = []\n",
    "\n",
    "    headers = {\n",
    "        \"User-Agent\": \"MyApp/1.0 (ruoyu@lockrmail.com)\",\n",
    "        \"Accept\": \"application/json\",\n",
    "        \"Content-Type\": \"application/json\"\n",
    "    }\n",
    "    \n",
    "    initial_url = f\"{base_url}?dateRange=custom&category=custom&startdt={start_date}&enddt={end_date}&forms=S-1&page=1&from=0\"\n",
    "    response = requests.get(initial_url, headers=headers)\n",
    "    \n",
    "    if response.status_code == 200:\n",
    "        data = response.json()\n",
    "        total_hits = data.get(\"hits\", {}).get(\"total\", {}).get(\"value\", 0)\n",
    "        print(f\"Total S-1 filings found: {total_hits}\")\n",
    "        \n",
    "        while start_from < total_hits:\n",
    "            url = f\"{base_url}?dateRange=custom&category=custom&startdt={start_date}&enddt={end_date}&forms=S-1&page={start_from // size + 1}&from={start_from}\"\n",
    "            response = requests.get(url, headers=headers)\n",
    "            time.sleep(delay)\n",
    "            \n",
    "            if response.status_code == 200:\n",
    "                data = response.json()\n",
    "                filings = data.get(\"hits\", {}).get(\"hits\", [])\n",
    "                \n",
    "                for filing in filings:\n",
    "                    source_data = filing.get(\"_source\")\n",
    "                    all_filings.append({\n",
    "                        \"filing_id\": filing.get(\"_id\"),\n",
    "                        \"display_names\": source_data.get(\"display_names\"),\n",
    "                        \"file_date\": source_data.get(\"file_date\"),\n",
    "                        \"file_type\": source_data.get(\"file_type\"),\n",
    "                        \"biz_locations\": source_data.get(\"biz_locations\"),\n",
    "                        \"sequence\": source_data.get(\"sequence\"),\n",
    "                        \"inc_states\": source_data.get(\"inc_states\"),\n",
    "                    })\n",
    "                \n",
    "                start_from += size \n",
    "            else:\n",
    "                print(f\"Error: Received status code {response.status_code}\")\n",
    "                print(response.text)\n",
    "                break\n",
    "    else:\n",
    "        print(f\"Error: Received status code {response.status_code}\")\n",
    "        print(response.text)\n",
    "    \n",
    "    return all_filings"
   ]
  },
  {
   "cell_type": "code",
   "execution_count": 3,
   "metadata": {},
   "outputs": [],
   "source": [
    "def create_edgar_url(cik, filing_id):\n",
    "    file_identifer, file_name = filing_id.split(\":\")\n",
    "    file_identifer = file_identifer.replace(\"-\", \"\")\n",
    "    edgar_url = f\"https://www.sec.gov/Archives/edgar/data/{cik}/{file_identifer}/{file_name}\"\n",
    "    return edgar_url\n",
    "\n",
    "def clean_s1_filings(dataframe_original):\n",
    "    dataframe = dataframe_original.copy()\n",
    "    dataframe = dataframe.explode([\"display_names\", \"biz_locations\", \"inc_states\"])\n",
    "    dataframe[\"CIK\"] = dataframe[\"display_names\"].str.extract(r\"CIK (\\d+)\")\n",
    "    dataframe[\"URL\"] = dataframe.apply(lambda x: create_edgar_url(cik=x[\"CIK\"], filing_id=x[\"filing_id\"]), axis=1)\n",
    "    return dataframe"
   ]
  },
  {
   "cell_type": "code",
   "execution_count": 43,
   "metadata": {},
   "outputs": [],
   "source": [
    "def bulk_save_edgar_filing(list_of_edgar_links):\n",
    "    save_location = \"../data\"\n",
    "    headers = {\n",
    "        \"User-Agent\": \"MyApp/1.0 (ruoyu@lockrmail.com)\",\n",
    "        \"Accept\": \"application/json\",\n",
    "        \"Content-Type\": \"application/json\"\n",
    "    }\n",
    "    requests_per_second = 10\n",
    "    delay = 1.0 / requests_per_second\n",
    "    for link in list_of_edgar_links:\n",
    "        request = requests.get(link, headers=headers)\n",
    "        file_name = link.split(\"/\")[-1]\n",
    "        file_name = file_name.replace(\".html\", \"\").replace(\".htm\", \"\") + \".html\"\n",
    "        if request.status_code == 200:\n",
    "            content = request.text\n",
    "            \n",
    "            with open(f\"{save_location}/{file_name}\", \"w\", encoding=\"utf-8\") as document_writer:\n",
    "                print(f\"Saving {file_name}...\")\n",
    "                document_writer.write(content)\n",
    "            time.sleep(delay)\n",
    "        else:\n",
    "            print(f\"Skipping {file_name}\")\n",
    "            continue\n",
    "\n",
    "    "
   ]
  },
  {
   "cell_type": "markdown",
   "metadata": {},
   "source": [
    "## Initialize Edgar request"
   ]
  },
  {
   "cell_type": "code",
   "execution_count": 4,
   "metadata": {},
   "outputs": [
    {
     "name": "stdout",
     "output_type": "stream",
     "text": [
      "Total S-1 filings found: 2663\n"
     ]
    }
   ],
   "source": [
    "list_of_filings = get_s1_filings()"
   ]
  },
  {
   "cell_type": "markdown",
   "metadata": {},
   "source": [
    "## Clean Data"
   ]
  },
  {
   "cell_type": "code",
   "execution_count": 5,
   "metadata": {},
   "outputs": [],
   "source": [
    "df = pd.DataFrame(list_of_filings)"
   ]
  },
  {
   "cell_type": "code",
   "execution_count": 6,
   "metadata": {},
   "outputs": [],
   "source": [
    "df = clean_s1_filings(df)"
   ]
  },
  {
   "cell_type": "code",
   "execution_count": 21,
   "metadata": {},
   "outputs": [
    {
     "data": {
      "text/plain": [
       "'https://www.sec.gov/Archives/edgar/data/0001174940/000149315224052623/forms-1a.htm'"
      ]
     },
     "execution_count": 21,
     "metadata": {},
     "output_type": "execute_result"
    }
   ],
   "source": [
    "df[\"URL\"][10]"
   ]
  },
  {
   "cell_type": "code",
   "execution_count": 45,
   "metadata": {},
   "outputs": [],
   "source": [
    "headers = {\n",
    "        \"User-Agent\": \"MyApp/1.0 (ruoyu@lockrmail.com)\",\n",
    "        \"Accept\": \"application/json\",\n",
    "        \"Content-Type\": \"application/json\"\n",
    "    }\n",
    "request = requests.get(df.URL[0], headers=headers)"
   ]
  },
  {
   "cell_type": "code",
   "execution_count": 46,
   "metadata": {},
   "outputs": [
    {
     "data": {
      "text/plain": [
       "200"
      ]
     },
     "execution_count": 46,
     "metadata": {},
     "output_type": "execute_result"
    }
   ],
   "source": [
    "request.status_code"
   ]
  },
  {
   "cell_type": "code",
   "execution_count": 44,
   "metadata": {},
   "outputs": [
    {
     "name": "stdout",
     "output_type": "stream",
     "text": [
      "Saving aen_s1.html...\n",
      "Saving ea0214433-04.html...\n",
      "Saving forms-1a.html...\n",
      "Saving ea0225566-s1a1_dmint.html...\n",
      "Saving ea0217603-04.html...\n",
      "Saving forms-1a.html...\n",
      "Saving pirs20241220_s1.html...\n",
      "Saving d898161ds1.html...\n",
      "Saving gevi_s1a.html...\n",
      "Saving forms-1.html...\n",
      "Saving forms-1a.html...\n",
      "Saving tmb-20240930xs1.html...\n",
      "Saving ea0208079-06.html...\n",
      "Saving forms-1.html...\n",
      "Saving forms-1.html...\n",
      "Saving ea0226148-s1_nxuinc.html...\n",
      "Saving tm2426182d6_s1a.html...\n",
      "Saving amendment.html...\n",
      "Saving d835594ds1a.html...\n",
      "Saving e6227_s-1.html...\n",
      "Saving forms-1a.html...\n",
      "Saving forms-1a.html...\n",
      "Saving tmgi_s1a5.html...\n",
      "Saving forms-1.html...\n",
      "Saving mayau_s1.html...\n",
      "Saving nehc-20240930xs1.html...\n",
      "Saving ea0226237-s1a1_inmedpharma.html...\n",
      "Saving scpx_s1.html...\n",
      "Saving lafa_s1.html...\n",
      "Saving ea0225697-s1_heliocorp.html...\n",
      "Saving tm2310971-13_s1a.html...\n",
      "Saving forms-1a.html...\n",
      "Saving tmgi_s1a4.html...\n",
      "Saving aclarion_s1a1.html...\n",
      "Saving forms-1.html...\n",
      "Saving ny20039820x7_s1a.html...\n",
      "Saving luxurbanhotels_s1a.html...\n",
      "Saving calor_s1.html...\n",
      "Saving forms-1a.html...\n",
      "Saving ea0207942-07.html...\n",
      "Saving ea0209567-05.html...\n",
      "Saving forms-1a.html...\n",
      "Skipping tm2426182d5_s1a.html\n",
      "Skipping or060_s1.html\n",
      "Skipping forms-1.html\n",
      "Skipping afjku_s1.html\n",
      "Skipping triunity_s1a2.html\n",
      "Skipping ea0224194-s1_abpro.html\n",
      "Skipping ea0225313-s1a2_180life.html\n",
      "Skipping forms-1.html\n",
      "Skipping forms-1.html\n",
      "Skipping ea0225388-s1_cero.html\n",
      "Skipping d918358ds1.html\n",
      "Skipping forms-1a.html\n",
      "Skipping forms-1a.html\n",
      "Skipping ea0225602-s1_marpai.html\n",
      "Skipping ea0225519-s1_inmedpharma.html\n",
      "Skipping rsls-20231231xs1.html\n",
      "Skipping forms-1a.html\n",
      "Skipping ea0225551-s1a1_larosa.html\n",
      "Skipping d146310ds1.html\n",
      "Skipping ss4251940_s1a.html\n",
      "Skipping ea0201124-10.html\n",
      "Skipping nexo_s1a-122024.html\n",
      "Skipping ea0225439-s1_quantum.html\n",
      "Skipping forms-1.html\n",
      "Skipping forms-1.html\n",
      "Skipping forms-1.html\n",
      "Skipping d826795ds1a.html\n",
      "Skipping ea0225176-s1a1_180life.html\n",
      "Skipping nexalintech_s1.html\n",
      "Skipping ea0225185-s1_adialpharma.html\n",
      "Skipping d808403ds1a.html\n",
      "Skipping ea0225278-s1a4_ribbon.html\n",
      "Skipping forms-1a.html\n",
      "Skipping copleyacq_s1.html\n",
      "Skipping tm2426182d2_s1a.html\n",
      "Skipping forms-1a.html\n",
      "Skipping forms-1a.html\n",
      "Skipping auddia_s1-eloc.html\n",
      "Skipping tm2422367-9_s1a.html\n",
      "Skipping forms-1a.html\n",
      "Skipping ny20038704x2_s1a.html\n",
      "Skipping inseego_s1.html\n",
      "Skipping tm2430640d3_s1a.html\n",
      "Skipping forms-1a.html\n",
      "Skipping forms-1.html\n",
      "Skipping ea0208720-08.html\n",
      "Skipping pnst-20241218.html\n",
      "Skipping ea0213156-02.html\n",
      "Skipping ea0224805-01.html\n",
      "Skipping scpx_s1.html\n",
      "Skipping cosm_s1.html\n",
      "Skipping forms-1a.html\n",
      "Skipping ea0225125-s1a1_cyngninc.html\n",
      "Skipping forms-1a.html\n",
      "Skipping ea0213909-05.html\n",
      "Skipping forms-1.html\n",
      "Skipping ea0200040-18.html\n",
      "Skipping darkpulse_s1a4.html\n"
     ]
    }
   ],
   "source": [
    "bulk_save_edgar_filing(df.URL.iloc[:100].tolist())"
   ]
  },
  {
   "cell_type": "code",
   "execution_count": null,
   "metadata": {},
   "outputs": [],
   "source": []
  },
  {
   "cell_type": "code",
   "execution_count": null,
   "metadata": {},
   "outputs": [],
   "source": []
  }
 ],
 "metadata": {
  "kernelspec": {
   "display_name": ".venv",
   "language": "python",
   "name": "python3"
  },
  "language_info": {
   "codemirror_mode": {
    "name": "ipython",
    "version": 3
   },
   "file_extension": ".py",
   "mimetype": "text/x-python",
   "name": "python",
   "nbconvert_exporter": "python",
   "pygments_lexer": "ipython3",
   "version": "3.12.4"
  }
 },
 "nbformat": 4,
 "nbformat_minor": 2
}
